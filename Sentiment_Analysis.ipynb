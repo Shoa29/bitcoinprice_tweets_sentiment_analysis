{
 "cells": [
  {
   "cell_type": "code",
   "execution_count": 2,
   "id": "5b666bba",
   "metadata": {},
   "outputs": [],
   "source": [
    "import pandas as pd\n",
    "import warnings\n",
    "warnings.filterwarnings('ignore')\n",
    "import re"
   ]
  },
  {
   "cell_type": "code",
   "execution_count": 3,
   "id": "d95ccdb5",
   "metadata": {},
   "outputs": [
    {
     "data": {
      "text/html": [
       "<div>\n",
       "<style scoped>\n",
       "    .dataframe tbody tr th:only-of-type {\n",
       "        vertical-align: middle;\n",
       "    }\n",
       "\n",
       "    .dataframe tbody tr th {\n",
       "        vertical-align: top;\n",
       "    }\n",
       "\n",
       "    .dataframe thead th {\n",
       "        text-align: right;\n",
       "    }\n",
       "</style>\n",
       "<table border=\"1\" class=\"dataframe\">\n",
       "  <thead>\n",
       "    <tr style=\"text-align: right;\">\n",
       "      <th></th>\n",
       "      <th>created_at</th>\n",
       "      <th>username</th>\n",
       "      <th>tweet</th>\n",
       "    </tr>\n",
       "  </thead>\n",
       "  <tbody>\n",
       "    <tr>\n",
       "      <th>0</th>\n",
       "      <td>05-07-2021</td>\n",
       "      <td>davidgokhshtein</td>\n",
       "      <td>Whales are buying #Bitcoin because they unders...</td>\n",
       "    </tr>\n",
       "    <tr>\n",
       "      <th>1</th>\n",
       "      <td>05-07-2021</td>\n",
       "      <td>unicunshop</td>\n",
       "      <td>Gold and Silver Bitcoin Coins  https://t.co/In...</td>\n",
       "    </tr>\n",
       "    <tr>\n",
       "      <th>2</th>\n",
       "      <td>05-07-2021</td>\n",
       "      <td>newsinvesting</td>\n",
       "      <td>Axie Infinity (AXS) and Waves make gains as Bi...</td>\n",
       "    </tr>\n",
       "    <tr>\n",
       "      <th>3</th>\n",
       "      <td>05-07-2021</td>\n",
       "      <td>elpoliticonews</td>\n",
       "      <td>Bitcoin será clave en la recuperación económic...</td>\n",
       "    </tr>\n",
       "    <tr>\n",
       "      <th>4</th>\n",
       "      <td>05-07-2021</td>\n",
       "      <td>basindabtk</td>\n",
       "      <td>💎@spaceratmatic is having their FIRST IDO thro...</td>\n",
       "    </tr>\n",
       "    <tr>\n",
       "      <th>...</th>\n",
       "      <td>...</td>\n",
       "      <td>...</td>\n",
       "      <td>...</td>\n",
       "    </tr>\n",
       "    <tr>\n",
       "      <th>355</th>\n",
       "      <td>30-06-2021</td>\n",
       "      <td>Brett Murphy</td>\n",
       "      <td>#makemoney #earnmoney #income #money #affiliat...</td>\n",
       "    </tr>\n",
       "    <tr>\n",
       "      <th>356</th>\n",
       "      <td>30-06-2021</td>\n",
       "      <td>#Help Me Pay My Bills</td>\n",
       "      <td>While the Lightning NetWork Solves two of Bitc...</td>\n",
       "    </tr>\n",
       "    <tr>\n",
       "      <th>357</th>\n",
       "      <td>30-06-2021</td>\n",
       "      <td>#bestsellerbook #recommendedbooks #cursosonline</td>\n",
       "      <td>📌#jeffxelon #bsc  #elonmusk #Bitcoin #Ethereum...</td>\n",
       "    </tr>\n",
       "    <tr>\n",
       "      <th>358</th>\n",
       "      <td>30-06-2021</td>\n",
       "      <td>LuisCardenasMX</td>\n",
       "      <td>\"@RicardoBSalinas demuestra lo peligroso que e...</td>\n",
       "    </tr>\n",
       "    <tr>\n",
       "      <th>359</th>\n",
       "      <td>30-06-2021</td>\n",
       "      <td>LuisCardenasMX</td>\n",
       "      <td>\"Las criptomonedas son el futuro: el bitcoin e...</td>\n",
       "    </tr>\n",
       "  </tbody>\n",
       "</table>\n",
       "<p>360 rows × 3 columns</p>\n",
       "</div>"
      ],
      "text/plain": [
       "     created_at                                         username  \\\n",
       "0    05-07-2021                                  davidgokhshtein   \n",
       "1    05-07-2021                                       unicunshop   \n",
       "2    05-07-2021                                    newsinvesting   \n",
       "3    05-07-2021                                   elpoliticonews   \n",
       "4    05-07-2021                                       basindabtk   \n",
       "..          ...                                              ...   \n",
       "355  30-06-2021                                     Brett Murphy   \n",
       "356  30-06-2021                            #Help Me Pay My Bills   \n",
       "357  30-06-2021  #bestsellerbook #recommendedbooks #cursosonline   \n",
       "358  30-06-2021                                   LuisCardenasMX   \n",
       "359  30-06-2021                                   LuisCardenasMX   \n",
       "\n",
       "                                                 tweet  \n",
       "0    Whales are buying #Bitcoin because they unders...  \n",
       "1    Gold and Silver Bitcoin Coins  https://t.co/In...  \n",
       "2    Axie Infinity (AXS) and Waves make gains as Bi...  \n",
       "3    Bitcoin será clave en la recuperación económic...  \n",
       "4    💎@spaceratmatic is having their FIRST IDO thro...  \n",
       "..                                                 ...  \n",
       "355  #makemoney #earnmoney #income #money #affiliat...  \n",
       "356  While the Lightning NetWork Solves two of Bitc...  \n",
       "357  📌#jeffxelon #bsc  #elonmusk #Bitcoin #Ethereum...  \n",
       "358  \"@RicardoBSalinas demuestra lo peligroso que e...  \n",
       "359  \"Las criptomonedas son el futuro: el bitcoin e...  \n",
       "\n",
       "[360 rows x 3 columns]"
      ]
     },
     "execution_count": 3,
     "metadata": {},
     "output_type": "execute_result"
    }
   ],
   "source": [
    "twt_btc = pd.read_csv(\"result.csv\", error_bad_lines=False,engine = 'python')"
   ]
  },
  {
   "cell_type": "code",
   "execution_count": 4,
   "id": "081c8746",
   "metadata": {},
   "outputs": [],
   "source": [
    "from datetime import datetime"
   ]
  },
  {
   "cell_type": "code",
   "execution_count": 5,
   "id": "d3f73e43",
   "metadata": {},
   "outputs": [],
   "source": [
    "twtdf = twt_btc.dropna()\n"
   ]
  },
  {
   "cell_type": "code",
   "execution_count": 6,
   "id": "2d945cb9",
   "metadata": {},
   "outputs": [],
   "source": [
    "for row in range(len(twtdf['created_at'])):\n",
    "    temp = twtdf.iloc[row,0]\n",
    "    twtdf.loc[row,['created_at']]= datetime.strptime(temp[:10],'%d-%m-%Y').date()\n"
   ]
  },
  {
   "cell_type": "code",
   "execution_count": 7,
   "id": "6f418003",
   "metadata": {},
   "outputs": [
    {
     "data": {
      "text/html": [
       "<div>\n",
       "<style scoped>\n",
       "    .dataframe tbody tr th:only-of-type {\n",
       "        vertical-align: middle;\n",
       "    }\n",
       "\n",
       "    .dataframe tbody tr th {\n",
       "        vertical-align: top;\n",
       "    }\n",
       "\n",
       "    .dataframe thead th {\n",
       "        text-align: right;\n",
       "    }\n",
       "</style>\n",
       "<table border=\"1\" class=\"dataframe\">\n",
       "  <thead>\n",
       "    <tr style=\"text-align: right;\">\n",
       "      <th></th>\n",
       "      <th>snapped_at</th>\n",
       "      <th>price</th>\n",
       "      <th>market_cap</th>\n",
       "      <th>total_volume</th>\n",
       "    </tr>\n",
       "  </thead>\n",
       "  <tbody>\n",
       "    <tr>\n",
       "      <th>0</th>\n",
       "      <td>2021-06-24</td>\n",
       "      <td>33702.61779</td>\n",
       "      <td>6.320000e+11</td>\n",
       "      <td>39798236962</td>\n",
       "    </tr>\n",
       "    <tr>\n",
       "      <th>1</th>\n",
       "      <td>2021-06-25</td>\n",
       "      <td>34675.44911</td>\n",
       "      <td>6.500000e+11</td>\n",
       "      <td>31862051544</td>\n",
       "    </tr>\n",
       "    <tr>\n",
       "      <th>2</th>\n",
       "      <td>2021-06-26</td>\n",
       "      <td>31943.13647</td>\n",
       "      <td>5.990000e+11</td>\n",
       "      <td>38635245431</td>\n",
       "    </tr>\n",
       "    <tr>\n",
       "      <th>3</th>\n",
       "      <td>2021-06-27</td>\n",
       "      <td>32023.97390</td>\n",
       "      <td>6.000000e+11</td>\n",
       "      <td>36873109420</td>\n",
       "    </tr>\n",
       "    <tr>\n",
       "      <th>4</th>\n",
       "      <td>2021-06-28</td>\n",
       "      <td>34607.29327</td>\n",
       "      <td>6.490000e+11</td>\n",
       "      <td>34335452117</td>\n",
       "    </tr>\n",
       "    <tr>\n",
       "      <th>5</th>\n",
       "      <td>2021-06-29</td>\n",
       "      <td>34556.84213</td>\n",
       "      <td>6.480000e+11</td>\n",
       "      <td>32453802891</td>\n",
       "    </tr>\n",
       "    <tr>\n",
       "      <th>6</th>\n",
       "      <td>2021-06-30</td>\n",
       "      <td>35968.99367</td>\n",
       "      <td>6.740000e+11</td>\n",
       "      <td>35121257876</td>\n",
       "    </tr>\n",
       "    <tr>\n",
       "      <th>7</th>\n",
       "      <td>2021-07-01</td>\n",
       "      <td>35171.48630</td>\n",
       "      <td>6.600000e+11</td>\n",
       "      <td>31024153847</td>\n",
       "    </tr>\n",
       "    <tr>\n",
       "      <th>8</th>\n",
       "      <td>2021-07-02</td>\n",
       "      <td>33677.56624</td>\n",
       "      <td>6.300000e+11</td>\n",
       "      <td>29129630236</td>\n",
       "    </tr>\n",
       "    <tr>\n",
       "      <th>9</th>\n",
       "      <td>2021-07-03</td>\n",
       "      <td>33950.78656</td>\n",
       "      <td>6.340000e+11</td>\n",
       "      <td>25084046353</td>\n",
       "    </tr>\n",
       "    <tr>\n",
       "      <th>10</th>\n",
       "      <td>2021-07-04</td>\n",
       "      <td>34729.89078</td>\n",
       "      <td>6.500000e+11</td>\n",
       "      <td>22986053605</td>\n",
       "    </tr>\n",
       "    <tr>\n",
       "      <th>11</th>\n",
       "      <td>2021-07-05</td>\n",
       "      <td>35394.21307</td>\n",
       "      <td>6.640000e+11</td>\n",
       "      <td>22727930418</td>\n",
       "    </tr>\n",
       "    <tr>\n",
       "      <th>12</th>\n",
       "      <td>2021-07-06</td>\n",
       "      <td>33928.13422</td>\n",
       "      <td>6.360000e+11</td>\n",
       "      <td>25894820185</td>\n",
       "    </tr>\n",
       "    <tr>\n",
       "      <th>13</th>\n",
       "      <td>2021-07-07</td>\n",
       "      <td>34149.98981</td>\n",
       "      <td>6.400000e+11</td>\n",
       "      <td>26106856612</td>\n",
       "    </tr>\n",
       "  </tbody>\n",
       "</table>\n",
       "</div>"
      ],
      "text/plain": [
       "    snapped_at        price    market_cap  total_volume\n",
       "0   2021-06-24  33702.61779  6.320000e+11   39798236962\n",
       "1   2021-06-25  34675.44911  6.500000e+11   31862051544\n",
       "2   2021-06-26  31943.13647  5.990000e+11   38635245431\n",
       "3   2021-06-27  32023.97390  6.000000e+11   36873109420\n",
       "4   2021-06-28  34607.29327  6.490000e+11   34335452117\n",
       "5   2021-06-29  34556.84213  6.480000e+11   32453802891\n",
       "6   2021-06-30  35968.99367  6.740000e+11   35121257876\n",
       "7   2021-07-01  35171.48630  6.600000e+11   31024153847\n",
       "8   2021-07-02  33677.56624  6.300000e+11   29129630236\n",
       "9   2021-07-03  33950.78656  6.340000e+11   25084046353\n",
       "10  2021-07-04  34729.89078  6.500000e+11   22986053605\n",
       "11  2021-07-05  35394.21307  6.640000e+11   22727930418\n",
       "12  2021-07-06  33928.13422  6.360000e+11   25894820185\n",
       "13  2021-07-07  34149.98981  6.400000e+11   26106856612"
      ]
     },
     "execution_count": 7,
     "metadata": {},
     "output_type": "execute_result"
    }
   ],
   "source": [
    "btc=pd.read_csv('btc-usd.csv',error_bad_lines=False,engine = 'python')\n",
    "for row in range(len(btc['snapped_at'])):\n",
    "    temp = btc.iloc[row,0]\n",
    "    btc.loc[row,['snapped_at']]= datetime.strptime(temp[:10],'%d-%m-%Y').date()"
   ]
  },
  {
   "cell_type": "code",
   "execution_count": 8,
   "id": "387d3217",
   "metadata": {},
   "outputs": [],
   "source": [
    "twtdf['created_at'] =  pd.to_datetime(twtdf['created_at'])\n",
    "twtdf.sort_values(by='created_at')\n",
    "btc['snapped_at'] = pd.to_datetime(btc['snapped_at'])\n",
    "btc.sort_values(by='snapped_at')\n",
    "btc.dropna(inplace = True)"
   ]
  },
  {
   "cell_type": "code",
   "execution_count": 9,
   "id": "76ffbe59",
   "metadata": {},
   "outputs": [
    {
     "name": "stdout",
     "output_type": "stream",
     "text": [
      "Requirement already satisfied: nltk in c:\\users\\shoad\\anaconda3\\lib\\site-packages (3.6.1)\n",
      "Requirement already satisfied: tqdm in c:\\users\\shoad\\anaconda3\\lib\\site-packages (from nltk) (4.59.0)\n",
      "Requirement already satisfied: click in c:\\users\\shoad\\anaconda3\\lib\\site-packages (from nltk) (7.1.2)\n",
      "Requirement already satisfied: joblib in c:\\users\\shoad\\anaconda3\\lib\\site-packages (from nltk) (1.0.1)\n",
      "Requirement already satisfied: regex in c:\\users\\shoad\\anaconda3\\lib\\site-packages (from nltk) (2021.4.4)\n",
      "Note: you may need to restart the kernel to use updated packages.\n"
     ]
    }
   ],
   "source": [
    "pip install nltk\n"
   ]
  },
  {
   "cell_type": "code",
   "execution_count": 10,
   "id": "824bb52f",
   "metadata": {},
   "outputs": [],
   "source": [
    "twtdf.fillna('', inplace = True)"
   ]
  },
  {
   "cell_type": "code",
   "execution_count": 11,
   "id": "ccc9370d",
   "metadata": {},
   "outputs": [
    {
     "name": "stderr",
     "output_type": "stream",
     "text": [
      "[nltk_data] Downloading package vader_lexicon to\n",
      "[nltk_data]     C:\\Users\\shoad\\AppData\\Roaming\\nltk_data...\n",
      "[nltk_data]   Package vader_lexicon is already up-to-date!\n"
     ]
    },
    {
     "data": {
      "text/plain": [
       "True"
      ]
     },
     "execution_count": 11,
     "metadata": {},
     "output_type": "execute_result"
    }
   ],
   "source": [
    "import nltk\n",
    "nltk.download('vader_lexicon')"
   ]
  },
  {
   "cell_type": "code",
   "execution_count": 12,
   "id": "20190358",
   "metadata": {},
   "outputs": [],
   "source": [
    "from preprocessor.api import clean, tokenize, parse\n",
    "\n",
    "def function_udf(input_str):\n",
    "    input_str = re.sub(r'RT', '', input_str)\n",
    "    input_str = clean(input_str)\n",
    "    return ' '.join(re.sub(\"(@[A-Za-z0-9]+)|([^0-9A-Za-z \\t])|(\\w+:\\/\\/\\S+)\", \" \", input_str).split())\n",
    "\n",
    "cleaned_twts = []\n",
    "\n",
    "for row in range(len(twtdf['tweet'])):\n",
    "    temp = twtdf.iloc[row,2]\n",
    "    twtdf.iloc[row, 2] = str(function_udf(temp))\n",
    "    "
   ]
  },
  {
   "cell_type": "code",
   "execution_count": 13,
   "id": "bf8b3cde",
   "metadata": {},
   "outputs": [
    {
     "data": {
      "text/html": [
       "<div>\n",
       "<style scoped>\n",
       "    .dataframe tbody tr th:only-of-type {\n",
       "        vertical-align: middle;\n",
       "    }\n",
       "\n",
       "    .dataframe tbody tr th {\n",
       "        vertical-align: top;\n",
       "    }\n",
       "\n",
       "    .dataframe thead th {\n",
       "        text-align: right;\n",
       "    }\n",
       "</style>\n",
       "<table border=\"1\" class=\"dataframe\">\n",
       "  <thead>\n",
       "    <tr style=\"text-align: right;\">\n",
       "      <th></th>\n",
       "      <th>created_at</th>\n",
       "      <th>username</th>\n",
       "      <th>tweet</th>\n",
       "      <th>Negative</th>\n",
       "      <th>Neutral</th>\n",
       "      <th>Positive</th>\n",
       "      <th>Compound</th>\n",
       "    </tr>\n",
       "  </thead>\n",
       "  <tbody>\n",
       "    <tr>\n",
       "      <th>0</th>\n",
       "      <td>2021-07-05</td>\n",
       "      <td>davidgokhshtein</td>\n",
       "      <td>Whales are buying because they understand what...</td>\n",
       "      <td>0.135</td>\n",
       "      <td>0.865</td>\n",
       "      <td>0.000</td>\n",
       "      <td>-0.1027</td>\n",
       "    </tr>\n",
       "    <tr>\n",
       "      <th>1</th>\n",
       "      <td>2021-07-05</td>\n",
       "      <td>unicunshop</td>\n",
       "      <td>Gold and Silver Bitcoin Coins</td>\n",
       "      <td>0.000</td>\n",
       "      <td>1.000</td>\n",
       "      <td>0.000</td>\n",
       "      <td>0.0000</td>\n",
       "    </tr>\n",
       "    <tr>\n",
       "      <th>2</th>\n",
       "      <td>2021-07-05</td>\n",
       "      <td>newsinvesting</td>\n",
       "      <td>Axie Infinity AXS and Waves make gains as Bitc...</td>\n",
       "      <td>0.000</td>\n",
       "      <td>0.821</td>\n",
       "      <td>0.179</td>\n",
       "      <td>0.3400</td>\n",
       "    </tr>\n",
       "    <tr>\n",
       "      <th>3</th>\n",
       "      <td>2021-07-05</td>\n",
       "      <td>elpoliticonews</td>\n",
       "      <td>Bitcoin ser clave en la recuperacin econmica d...</td>\n",
       "      <td>0.000</td>\n",
       "      <td>1.000</td>\n",
       "      <td>0.000</td>\n",
       "      <td>0.0000</td>\n",
       "    </tr>\n",
       "    <tr>\n",
       "      <th>4</th>\n",
       "      <td>2021-07-05</td>\n",
       "      <td>basindabtk</td>\n",
       "      <td>is having their FIRST IDO through their LAUNCH...</td>\n",
       "      <td>0.084</td>\n",
       "      <td>0.717</td>\n",
       "      <td>0.199</td>\n",
       "      <td>0.6124</td>\n",
       "    </tr>\n",
       "    <tr>\n",
       "      <th>...</th>\n",
       "      <td>...</td>\n",
       "      <td>...</td>\n",
       "      <td>...</td>\n",
       "      <td>...</td>\n",
       "      <td>...</td>\n",
       "      <td>...</td>\n",
       "      <td>...</td>\n",
       "    </tr>\n",
       "    <tr>\n",
       "      <th>356</th>\n",
       "      <td>2021-06-30</td>\n",
       "      <td>#Help Me Pay My Bills</td>\n",
       "      <td>While the Lightning NetWork Solves two of Bitc...</td>\n",
       "      <td>0.000</td>\n",
       "      <td>0.935</td>\n",
       "      <td>0.065</td>\n",
       "      <td>0.2732</td>\n",
       "    </tr>\n",
       "    <tr>\n",
       "      <th>357</th>\n",
       "      <td>2021-06-30</td>\n",
       "      <td>#bestsellerbook #recommendedbooks #cursosonline</td>\n",
       "      <td>a travs de</td>\n",
       "      <td>0.000</td>\n",
       "      <td>1.000</td>\n",
       "      <td>0.000</td>\n",
       "      <td>0.0000</td>\n",
       "    </tr>\n",
       "    <tr>\n",
       "      <th>358</th>\n",
       "      <td>2021-06-30</td>\n",
       "      <td>LuisCardenasMX</td>\n",
       "      <td>demuestra lo peligroso que es que una misma pe...</td>\n",
       "      <td>0.000</td>\n",
       "      <td>0.930</td>\n",
       "      <td>0.070</td>\n",
       "      <td>0.4588</td>\n",
       "    </tr>\n",
       "    <tr>\n",
       "      <th>359</th>\n",
       "      <td>2021-06-30</td>\n",
       "      <td>LuisCardenasMX</td>\n",
       "      <td>Las criptomonedas son el futuro el bitcoin es ...</td>\n",
       "      <td>0.052</td>\n",
       "      <td>0.948</td>\n",
       "      <td>0.000</td>\n",
       "      <td>-0.2960</td>\n",
       "    </tr>\n",
       "    <tr>\n",
       "      <th>85</th>\n",
       "      <td>2021-07-06</td>\n",
       "      <td></td>\n",
       "      <td></td>\n",
       "      <td>0.000</td>\n",
       "      <td>0.000</td>\n",
       "      <td>0.000</td>\n",
       "      <td>0.0000</td>\n",
       "    </tr>\n",
       "  </tbody>\n",
       "</table>\n",
       "<p>360 rows × 7 columns</p>\n",
       "</div>"
      ],
      "text/plain": [
       "    created_at                                         username  \\\n",
       "0   2021-07-05                                  davidgokhshtein   \n",
       "1   2021-07-05                                       unicunshop   \n",
       "2   2021-07-05                                    newsinvesting   \n",
       "3   2021-07-05                                   elpoliticonews   \n",
       "4   2021-07-05                                       basindabtk   \n",
       "..         ...                                              ...   \n",
       "356 2021-06-30                            #Help Me Pay My Bills   \n",
       "357 2021-06-30  #bestsellerbook #recommendedbooks #cursosonline   \n",
       "358 2021-06-30                                   LuisCardenasMX   \n",
       "359 2021-06-30                                   LuisCardenasMX   \n",
       "85  2021-07-06                                                    \n",
       "\n",
       "                                                 tweet  Negative  Neutral  \\\n",
       "0    Whales are buying because they understand what...     0.135    0.865   \n",
       "1                        Gold and Silver Bitcoin Coins     0.000    1.000   \n",
       "2    Axie Infinity AXS and Waves make gains as Bitc...     0.000    0.821   \n",
       "3    Bitcoin ser clave en la recuperacin econmica d...     0.000    1.000   \n",
       "4    is having their FIRST IDO through their LAUNCH...     0.084    0.717   \n",
       "..                                                 ...       ...      ...   \n",
       "356  While the Lightning NetWork Solves two of Bitc...     0.000    0.935   \n",
       "357                                         a travs de     0.000    1.000   \n",
       "358  demuestra lo peligroso que es que una misma pe...     0.000    0.930   \n",
       "359  Las criptomonedas son el futuro el bitcoin es ...     0.052    0.948   \n",
       "85                                                         0.000    0.000   \n",
       "\n",
       "     Positive  Compound  \n",
       "0       0.000   -0.1027  \n",
       "1       0.000    0.0000  \n",
       "2       0.179    0.3400  \n",
       "3       0.000    0.0000  \n",
       "4       0.199    0.6124  \n",
       "..        ...       ...  \n",
       "356     0.065    0.2732  \n",
       "357     0.000    0.0000  \n",
       "358     0.070    0.4588  \n",
       "359     0.000   -0.2960  \n",
       "85      0.000    0.0000  \n",
       "\n",
       "[360 rows x 7 columns]"
      ]
     },
     "execution_count": 13,
     "metadata": {},
     "output_type": "execute_result"
    }
   ],
   "source": [
    "from vaderSentiment.vaderSentiment import SentimentIntensityAnalyzer\n",
    "analyser = SentimentIntensityAnalyzer()\n",
    "def senti_score_udf(sentence):\n",
    "    snt = analyser.polarity_scores(sentence)\n",
    "    return ([snt['neg'], snt['neu'], snt['pos'], snt['compound']])\n",
    "\n",
    "neg = []\n",
    "neu = []\n",
    "pos = []\n",
    "comp = []\n",
    "\n",
    "for row in range(len(twtdf['tweet'])):\n",
    "    temp = []\n",
    "    temp = senti_score_udf(twtdf.iloc[row,2])\n",
    "    neg.append(temp[0])\n",
    "    neu.append(temp[1])\n",
    "    pos.append(temp[2])\n",
    "    comp.append(temp[3])\n",
    "    \n",
    "twtdf['Negative'] = neg\n",
    "twtdf['Neutral'] = neu\n",
    "twtdf['Positive'] = pos\n",
    "twtdf['Compound'] = comp"
   ]
  },
  {
   "cell_type": "code",
   "execution_count": 14,
   "id": "0938b7f4",
   "metadata": {},
   "outputs": [],
   "source": [
    "twtdf.drop([85,224], inplace = True )\n",
    "#"
   ]
  },
  {
   "cell_type": "code",
   "execution_count": 15,
   "id": "c0001ebd",
   "metadata": {},
   "outputs": [],
   "source": [
    "df = twtdf.groupby('created_at').agg({'Negative':'mean','Neutral':'mean', 'Positive':'mean', 'Compound':'mean'}).reset_index()"
   ]
  },
  {
   "cell_type": "code",
   "execution_count": 16,
   "id": "3f6e6c68",
   "metadata": {},
   "outputs": [],
   "source": [
    "btc = btc.assign(Returns=btc['price']/btc['price'].shift(1) - 1 )\n",
    "btc = btc.assign(Change=(btc['price']/btc['price'].shift(1) - 1)/btc['price'].shift(1) - 1)"
   ]
  },
  {
   "cell_type": "code",
   "execution_count": 17,
   "id": "b0f2d8ac",
   "metadata": {},
   "outputs": [],
   "source": [
    "df['Compound'] = df['Compound'].shift(1, axis = 0)\n",
    "df['Negative'] = df['Negative'].shift(1)\n",
    "df['Positive'] = df['Positive'].shift(1)\n",
    "df['Neutral'] = df['Neutral'].shift(1)"
   ]
  },
  {
   "cell_type": "code",
   "execution_count": 18,
   "id": "6eb5049f",
   "metadata": {},
   "outputs": [],
   "source": [
    "df = df.rename(columns={\"created_at\":\"date\"})\n",
    "btc = btc.rename(columns={\"snapped_at\":\"date\"})\n"
   ]
  },
  {
   "cell_type": "code",
   "execution_count": 19,
   "id": "0ecca3a4",
   "metadata": {},
   "outputs": [],
   "source": [
    "btc_twt = pd.concat([df.set_index('date'), \n",
    "                 btc.set_index('date')], \n",
    "                 axis=1)"
   ]
  },
  {
   "cell_type": "code",
   "execution_count": 82,
   "id": "c5d518b1",
   "metadata": {},
   "outputs": [],
   "source": [
    "btc_twt.fillna(0, inplace = True)\n",
    "btc_twt.to_csv('tweet_price.csv')"
   ]
  },
  {
   "cell_type": "code",
   "execution_count": 20,
   "id": "dfecf6eb",
   "metadata": {},
   "outputs": [],
   "source": [
    "import matplotlib.pyplot as plt\n",
    "import numpy as np\n",
    "from sklearn.preprocessing import MinMaxScaler\n",
    "from keras.models import Sequential\n",
    "from keras.layers import Dense\n",
    "from keras.layers import LSTM\n"
   ]
  },
  {
   "cell_type": "code",
   "execution_count": 23,
   "id": "328ff00b",
   "metadata": {},
   "outputs": [
    {
     "data": {
      "image/png": "[encoded data removed]",
      "text/plain": [
       "<Figure size 432x288 with 5 Axes>"
      ]
     },
     "metadata": {
      "needs_background": "light"
     },
     "output_type": "display_data"
    }
   ],
   "source": [
    "values = btc_twt.values\n",
    "# specify columns to plot\n",
    "groups = [0, 1,2,3,7]\n",
    "i = 1\n",
    "# plot each column\n",
    "plt.figure()\n",
    "for group in groups:\n",
    "    plt.subplot(len(groups), 1, i)\n",
    "    plt.plot(values[:, group])\n",
    "    plt.title(btc_twt.columns[group], y=0.5, loc='right')\n",
    "    i += 1\n",
    "plt.show()"
   ]
  },
  {
   "cell_type": "code",
   "execution_count": 24,
   "id": "1f428224",
   "metadata": {},
   "outputs": [
    {
     "data": {
      "text/plain": [
       "<AxesSubplot:xlabel='Compound'>"
      ]
     },
     "execution_count": 24,
     "metadata": {},
     "output_type": "execute_result"
    },
    {
     "data": {
      "image/png": "[encoded data removed]",
      "text/plain": [
       "<Figure size 432x288 with 1 Axes>"
      ]
     },
     "metadata": {
      "needs_background": "light"
     },
     "output_type": "display_data"
    }
   ],
   "source": [
    "btc_twt.plot(x=\"Compound\", y=\"Returns\", style=\"o\") "
   ]
  },
  {
   "cell_type": "code",
   "execution_count": 25,
   "id": "f88ba20b",
   "metadata": {},
   "outputs": [
    {
     "data": {
      "text/plain": [
       "-0.7482237605841165"
      ]
     },
     "execution_count": 25,
     "metadata": {},
     "output_type": "execute_result"
    }
   ],
   "source": [
    "btc_twt['Returns'].corr(btc_twt['Compound'])"
   ]
  },
  {
   "cell_type": "code",
   "execution_count": null,
   "id": "8681147b",
   "metadata": {},
   "outputs": [],
   "source": []
  }
 ],
 "metadata": {
  "kernelspec": {
   "display_name": "Python 3",
   "language": "python",
   "name": "python3"
  },
  "language_info": {
   "codemirror_mode": {
    "name": "ipython",
    "version": 3
   },
   "file_extension": ".py",
   "mimetype": "text/x-python",
   "name": "python",
   "nbconvert_exporter": "python",
   "pygments_lexer": "ipython3",
   "version": "3.8.8"
  }
 },
 "nbformat": 4,
 "nbformat_minor": 5
}
